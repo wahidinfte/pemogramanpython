{
  "nbformat": 4,
  "nbformat_minor": 0,
  "metadata": {
    "colab": {
      "name": "Tugas12wahid.ipynb",
      "provenance": [],
      "collapsed_sections": [],
      "include_colab_link": true
    },
    "kernelspec": {
      "name": "python3",
      "display_name": "Python 3"
    }
  },
  "cells": [
    {
      "cell_type": "markdown",
      "metadata": {
        "id": "view-in-github",
        "colab_type": "text"
      },
      "source": [
        "<a href=\"https://colab.research.google.com/github/wahidinfte/pemogramanpython/blob/main/Tugas12wahid.ipynb\" target=\"_parent\"><img src=\"https://colab.research.google.com/assets/colab-badge.svg\" alt=\"Open In Colab\"/></a>"
      ]
    },
    {
      "cell_type": "code",
      "metadata": {
        "id": "cArqS-NGmIQG"
      },
      "source": [
        "import numpy as np"
      ],
      "execution_count": 47,
      "outputs": []
    },
    {
      "cell_type": "code",
      "metadata": {
        "id": "s-rjTvFZgQef"
      },
      "source": [
        "def C1(x) : \r\n",
        "    if x >= 400 and x <= 1500 :\r\n",
        "        return 69.55\r\n",
        "    elif x > 1500 and x <= 2000 :\r\n",
        "        return 46.3"
      ],
      "execution_count": 48,
      "outputs": []
    },
    {
      "cell_type": "code",
      "metadata": {
        "id": "04FmZFAZglxb"
      },
      "source": [
        "def C2(x) : \r\n",
        "    if x >= 400 and x <= 1500 :\r\n",
        "        return 26.16\r\n",
        "    elif x > 1500 and x <= 2000 :\r\n",
        "        return 33.9"
      ],
      "execution_count": 49,
      "outputs": []
    },
    {
      "cell_type": "code",
      "metadata": {
        "id": "jlc1_aMtgpHh"
      },
      "source": [
        "def a(x, y) : \r\n",
        "    return (((1.1*np.log10(y))-0.7)*x) - ((1.56*np.log10(y))-0.8)"
      ],
      "execution_count": 50,
      "outputs": []
    },
    {
      "cell_type": "code",
      "metadata": {
        "id": "lvB1WTQIguRK"
      },
      "source": [
        "def Cm(type, y) : \r\n",
        "    if type == 1 :\r\n",
        "        return 0\r\n",
        "    elif type == 2 :\r\n",
        "        return (-2*((np.log10(y/28))**2))-54\r\n",
        "    else :\r\n",
        "        return (-4.78*((np.log10(y))**2))+(18.33*np.log10(y))-40.94"
      ],
      "execution_count": 51,
      "outputs": []
    },
    {
      "cell_type": "code",
      "metadata": {
        "id": "mw--Zs9qiCOu"
      },
      "source": [
        "def PathLoss(d,f,Type_Cm,hT,hR) :\r\n",
        "  return C1(f)+(C2(f)*np.log10(f))-(13.83*np.log10(hT))-a(hR, f)+((44.9-(6.55*np.log10(hT)))*np.log10(d))+Cm(Type_Cm, f)"
      ],
      "execution_count": 52,
      "outputs": []
    },
    {
      "cell_type": "code",
      "metadata": {
        "id": "FngmtUHe1hVJ",
        "colab": {
          "base_uri": "https://localhost:8080/"
        },
        "outputId": "91c87219-ebc6-47f1-8633-87701d9377e8"
      },
      "source": [
        "PL=PathLoss(1000,1000,1,50,25)\r\n",
        "print(PL)"
      ],
      "execution_count": 53,
      "outputs": [
        {
          "output_type": "stream",
          "text": [
            "164.72848425483008\n"
          ],
          "name": "stdout"
        }
      ]
    },
    {
      "cell_type": "markdown",
      "metadata": {
        "id": "K19WqGB6UsXP"
      },
      "source": [
        "SHANNON CAPACITY"
      ]
    }
  ]
}