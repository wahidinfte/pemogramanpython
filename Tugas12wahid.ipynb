{
  "nbformat": 4,
  "nbformat_minor": 0,
  "metadata": {
    "colab": {
      "name": "Tugas12wahid.ipynb",
      "provenance": [],
      "collapsed_sections": [],
      "include_colab_link": true
    },
    "kernelspec": {
      "name": "python3",
      "display_name": "Python 3"
    }
  },
  "cells": [
    {
      "cell_type": "markdown",
      "metadata": {
        "id": "view-in-github",
        "colab_type": "text"
      },
      "source": [
        "<a href=\"https://colab.research.google.com/github/wahidinfte/pemogramanpython/blob/main/Tugas12wahid.ipynb\" target=\"_parent\"><img src=\"https://colab.research.google.com/assets/colab-badge.svg\" alt=\"Open In Colab\"/></a>"
      ]
    },
    {
      "cell_type": "code",
      "metadata": {
        "id": "cArqS-NGmIQG"
      },
      "source": [
        "import numpy as np"
      ],
      "execution_count": 827,
      "outputs": []
    },
    {
      "cell_type": "code",
      "metadata": {
        "colab": {
          "base_uri": "https://localhost:8080/"
        },
        "id": "d7zAqsZMH077",
        "outputId": "388682a8-1a59-4b23-ae9a-d81c5c10d229"
      },
      "source": [
        "y=10*np.log10(100)\n",
        "print(y)"
      ],
      "execution_count": 828,
      "outputs": [
        {
          "output_type": "stream",
          "text": [
            "20.0\n"
          ],
          "name": "stdout"
        }
      ]
    },
    {
      "cell_type": "code",
      "metadata": {
        "id": "2dROxd-4IC-k"
      },
      "source": [
        "NtL = lambda x: 10*np.log10(x)"
      ],
      "execution_count": 829,
      "outputs": []
    },
    {
      "cell_type": "code",
      "metadata": {
        "colab": {
          "base_uri": "https://localhost:8080/"
        },
        "id": "IE1SO9OHIYis",
        "outputId": "afe87a32-40ef-4b13-f400-f6e1a0ffbe07"
      },
      "source": [
        "z=NtL(100)\n",
        "print(z)"
      ],
      "execution_count": 830,
      "outputs": [
        {
          "output_type": "stream",
          "text": [
            "20.0\n"
          ],
          "name": "stdout"
        }
      ]
    },
    {
      "cell_type": "code",
      "metadata": {
        "id": "_ucTblHWIbv0"
      },
      "source": [
        "LtN = lambda x: 10**(x/10)"
      ],
      "execution_count": 831,
      "outputs": []
    },
    {
      "cell_type": "code",
      "metadata": {
        "colab": {
          "base_uri": "https://localhost:8080/"
        },
        "id": "5-3VMP_sI3w0",
        "outputId": "56744c1c-cb45-476b-fc49-2c95cec57d93"
      },
      "source": [
        "y=LtN(3)\n",
        "print(y)"
      ],
      "execution_count": 832,
      "outputs": [
        {
          "output_type": "stream",
          "text": [
            "1.9952623149688795\n"
          ],
          "name": "stdout"
        }
      ]
    },
    {
      "cell_type": "code",
      "metadata": {
        "colab": {
          "base_uri": "https://localhost:8080/"
        },
        "id": "T8TtSdKzI-XM",
        "outputId": "5eb40711-44bc-48a0-b0bf-e64f2b13d197"
      },
      "source": [
        "PL = -22.75 + (20*np.log10(500)) + (20*np.log10(1800000000))\n",
        "print(PL)"
      ],
      "execution_count": 833,
      "outputs": [
        {
          "output_type": "stream",
          "text": [
            "216.3348501887865\n"
          ],
          "name": "stdout"
        }
      ]
    },
    {
      "cell_type": "code",
      "metadata": {
        "id": "_RWlosFdLhlO"
      },
      "source": [
        "def ploss(d,f):\n",
        "  pldb=-22.75 + (20*np.log10(d)) + (20*np.log10(f))\n",
        "  plnum=LtN(-pldb)\n",
        "  return pldb,plnum"
      ],
      "execution_count": 834,
      "outputs": []
    },
    {
      "cell_type": "code",
      "metadata": {
        "colab": {
          "base_uri": "https://localhost:8080/"
        },
        "id": "gEUKgGvcMQOA",
        "outputId": "85bf9645-3273-4f07-bc99-20901651f002"
      },
      "source": [
        "pathlossdb, pathlossnum = ploss(150,900000000)\n",
        "print(\"pathloss dalam db =\",pathlossdb,\"dB\")"
      ],
      "execution_count": 835,
      "outputs": [
        {
          "output_type": "stream",
          "text": [
            "pathloss dalam db = 199.85667536990013 dB\n"
          ],
          "name": "stdout"
        }
      ]
    },
    {
      "cell_type": "code",
      "metadata": {
        "id": "zDI-D0swMuod"
      },
      "source": [
        "def Prx(d,f,Ptx):\n",
        "\n",
        "  #fungsi menghitung daya terima, input d(jarak(km))\n",
        "  #f(frekuensi(MHz)), dan Ptx(daya pancar (W))\n",
        "\n",
        "  #mengubah Ptx dari Watt ke dBW\n",
        "  Pdb = NtL(Ptx)\n",
        "\n",
        "  #menghitung pathloss\n",
        "  pldb= 32.5 + (20*np.log10(d)) + (20*np.log10(f))\n",
        "\n",
        "  #hitung prx dalam dB\n",
        "  prdb=Pdb-pldb\n",
        "\n",
        "  #ubah daya terima ke bentuk numerik\n",
        "  prx=LtN(prdb)\n",
        "\n",
        "  return prx,prdb"
      ],
      "execution_count": 836,
      "outputs": []
    },
    {
      "cell_type": "code",
      "metadata": {
        "colab": {
          "base_uri": "https://localhost:8080/"
        },
        "id": "zwqRcICvO-cw",
        "outputId": "5c178d80-5930-43bd-b5e6-29d1172a4f80"
      },
      "source": [
        "PRX,PRDB=Prx(5,700,40)\n",
        "print(\"daya terima adalah :\", PRX,\"W\")"
      ],
      "execution_count": 837,
      "outputs": [
        {
          "output_type": "stream",
          "text": [
            "daya terima adalah : 1.8362165720501197e-09 W\n"
          ],
          "name": "stdout"
        }
      ]
    },
    {
      "cell_type": "code",
      "metadata": {
        "id": "VMAYXK4hQP0W"
      },
      "source": [
        "def noise(B):\n",
        "  #B adalah bandwidth dalam hertz\n",
        "  x=LtN(-144)\n",
        "  N=x*B\n",
        "  return N"
      ],
      "execution_count": 838,
      "outputs": []
    },
    {
      "cell_type": "code",
      "metadata": {
        "colab": {
          "base_uri": "https://localhost:8080/"
        },
        "id": "1y5663c4TJpO",
        "outputId": "65c471c8-ee12-46eb-de74-59a5651667f4"
      },
      "source": [
        "Noise=noise(180000)\n",
        "print(Noise)"
      ],
      "execution_count": 839,
      "outputs": [
        {
          "output_type": "stream",
          "text": [
            "7.165929069962945e-10\n"
          ],
          "name": "stdout"
        }
      ]
    },
    {
      "cell_type": "code",
      "metadata": {
        "colab": {
          "base_uri": "https://localhost:8080/"
        },
        "id": "Z3sNek2KTW3H",
        "outputId": "4a0ba5fc-b626-450e-849e-6e7762e3e382"
      },
      "source": [
        "SNR = PRX/Noise\n",
        "print(SNR)"
      ],
      "execution_count": 840,
      "outputs": [
        {
          "output_type": "stream",
          "text": [
            "2.5624263848031847\n"
          ],
          "name": "stdout"
        }
      ]
    },
    {
      "cell_type": "code",
      "metadata": {
        "id": "s-rjTvFZgQef"
      },
      "source": [
        "def C1(x) : \r\n",
        "    if x >= 400 and x <= 1500 :\r\n",
        "        return 69.55\r\n",
        "    elif x > 1500 and x <= 2000 :\r\n",
        "        return 46.3"
      ],
      "execution_count": 841,
      "outputs": []
    },
    {
      "cell_type": "code",
      "metadata": {
        "colab": {
          "base_uri": "https://localhost:8080/"
        },
        "id": "Va0gxLopkGIB",
        "outputId": "32504fa5-50cc-43ae-c006-4170df9ff687"
      },
      "source": [
        "zc1=C1(500)\r\n",
        "print(zc1)"
      ],
      "execution_count": 842,
      "outputs": [
        {
          "output_type": "stream",
          "text": [
            "69.55\n"
          ],
          "name": "stdout"
        }
      ]
    },
    {
      "cell_type": "code",
      "metadata": {
        "id": "04FmZFAZglxb"
      },
      "source": [
        "def C2(x) : \r\n",
        "    if x >= 400 and x <= 1500 :\r\n",
        "        return 26.16\r\n",
        "    elif x > 1500 and x <= 2000 :\r\n",
        "        return 33.9"
      ],
      "execution_count": 843,
      "outputs": []
    },
    {
      "cell_type": "code",
      "metadata": {
        "colab": {
          "base_uri": "https://localhost:8080/"
        },
        "id": "hhrcenqYljKS",
        "outputId": "8adca4e8-2ef3-4a63-f55a-3e05311a4ccb"
      },
      "source": [
        "zc2=C2(500)\r\n",
        "print(zc2)"
      ],
      "execution_count": 844,
      "outputs": [
        {
          "output_type": "stream",
          "text": [
            "26.16\n"
          ],
          "name": "stdout"
        }
      ]
    },
    {
      "cell_type": "code",
      "metadata": {
        "id": "jlc1_aMtgpHh"
      },
      "source": [
        "def a(x, y) : \r\n",
        "    return (((1.1*np.log10(y))-0.7)*x) - ((1.56*np.log10(y))-0.8)"
      ],
      "execution_count": 845,
      "outputs": []
    },
    {
      "cell_type": "code",
      "metadata": {
        "colab": {
          "base_uri": "https://localhost:8080/"
        },
        "id": "sipEJmodmg63",
        "outputId": "88c4b26f-ef3e-4260-9d54-d7ff8e3cc7f6"
      },
      "source": [
        "za=a(50,50)\r\n",
        "print(za)"
      ],
      "execution_count": 846,
      "outputs": [
        {
          "output_type": "stream",
          "text": [
            "56.59295703171685\n"
          ],
          "name": "stdout"
        }
      ]
    },
    {
      "cell_type": "code",
      "metadata": {
        "id": "lvB1WTQIguRK"
      },
      "source": [
        "def Cm(type, y) : \r\n",
        "    if type == 1 :\r\n",
        "        return 0\r\n",
        "    elif type == 2 :\r\n",
        "        return (-2*((np.log10(y/28))**2))-54\r\n",
        "    else :\r\n",
        "        return (-4.78*((np.log10(y))**2))+(18.33*np.log10(y))-40.94"
      ],
      "execution_count": 847,
      "outputs": []
    },
    {
      "cell_type": "code",
      "metadata": {
        "colab": {
          "base_uri": "https://localhost:8080/"
        },
        "id": "b4UtSrXgnyZ2",
        "outputId": "2d599637-0248-40e5-9479-0177dc400714"
      },
      "source": [
        "zcm=Cm(1,25)\r\n",
        "print(zcm) "
      ],
      "execution_count": 848,
      "outputs": [
        {
          "output_type": "stream",
          "text": [
            "-24.65700900134532\n"
          ],
          "name": "stdout"
        }
      ]
    },
    {
      "cell_type": "code",
      "metadata": {
        "id": "mw--Zs9qiCOu"
      },
      "source": [
        "def PathLoss(d,f,Type_Cm,hT,hR) :\r\n",
        "  return C1(f)+(C2(f)*np.log10(f))-(13.83*np.log10(hT))-a(hR, f)+((44.9-(6.55*np.log10(hT)))*np.log10(d))+Cm(Type_Cm, f)"
      ],
      "execution_count": 849,
      "outputs": []
    },
    {
      "cell_type": "code",
      "metadata": {
        "id": "FngmtUHe1hVJ"
      },
      "source": [
        "PL=PathLoss(5,700,1,30,30)\r\n",
        "print(PL)"
      ],
      "execution_count": null,
      "outputs": []
    },
    {
      "cell_type": "markdown",
      "metadata": {
        "id": "K19WqGB6UsXP"
      },
      "source": [
        "SHANNON CAPACITY"
      ]
    }
  ]
}